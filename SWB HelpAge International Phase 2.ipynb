{
 "cells": [
  {
   "cell_type": "code",
   "execution_count": 26,
   "metadata": {},
   "outputs": [],
   "source": [
    "# Import packages\n",
    "import pandas as pd\n",
    "import numpy as np\n",
    "from matplotlib import pyplot as plt"
   ]
  },
  {
   "cell_type": "code",
   "execution_count": 40,
   "metadata": {},
   "outputs": [],
   "source": [
    "# Load datasets\n",
    "roster = pd.read_csv(\"D:/Users/John/OneDrive/Documents/SWB/HelpAge International/TZA_2007_SHWALITA_v01_M_CSV/hh_roster.csv\")\n",
    "nonfood = pd.read_csv(\"D:/Users/John/OneDrive/Documents/SWB/HelpAge International/TZA_2007_SHWALITA_v01_M_CSV/hh_nonfood.csv\")\n",
    "food = pd.read_csv(\"D:/Users/John/OneDrive/Documents/SWB/HelpAge International/TZA_2007_SHWALITA_v01_M_CSV/hh_frqnonfood.csv\")\n",
    "hh_info = pd.read_csv(\"D:/Users/John/OneDrive/Documents/SWB/HelpAge International/TZA_2007_SHWALITA_v01_M_CSV/hh_info.csv\")"
   ]
  },
  {
   "cell_type": "code",
   "execution_count": 3,
   "metadata": {},
   "outputs": [
    {
     "name": "stderr",
     "output_type": "stream",
     "text": [
      "D:\\John\\Anaconda3\\lib\\site-packages\\ipykernel_launcher.py:5: SettingWithCopyWarning: \n",
      "A value is trying to be set on a copy of a slice from a DataFrame\n",
      "\n",
      "See the caveats in the documentation: http://pandas.pydata.org/pandas-docs/stable/user_guide/indexing.html#returning-a-view-versus-a-copy\n",
      "  \"\"\"\n",
      "D:\\John\\Anaconda3\\lib\\site-packages\\pandas\\core\\indexing.py:205: SettingWithCopyWarning: \n",
      "A value is trying to be set on a copy of a slice from a DataFrame\n",
      "\n",
      "See the caveats in the documentation: http://pandas.pydata.org/pandas-docs/stable/user_guide/indexing.html#returning-a-view-versus-a-copy\n",
      "  self._setitem_with_indexer(indexer, value)\n"
     ]
    }
   ],
   "source": [
    "# Create a table with only health expenditures and also scale data to two-week spendings\n",
    "itemcodes = [2022, 2023, 2024] # Codes of health purchases\n",
    "nonfood[\"adjusted\"] = 0\n",
    "for i in range(len(nonfood)):\n",
    "    if nonfood[\"recall\"][i] == 3: # One-month recall\n",
    "        nonfood[\"adjusted\"][i] = nonfood[\"s6value\"][i]/2\n",
    "    elif nonfood[\"recall\"][i] == 4: # One-year recall\n",
    "        nonfood[\"adjusted\"][i] = nonfood[\"s6value\"][i]/26\n",
    "nonfood_filtered = nonfood[nonfood[\"item\"].isin(itemcodes)]"
   ]
  },
  {
   "cell_type": "code",
   "execution_count": 4,
   "metadata": {},
   "outputs": [],
   "source": [
    "# Create a table with every household as a row\n",
    "unique_hhs = roster.groupby(['id1', 'id2', 'id3', 'id4']).size().reset_index().rename(columns={0:'count'})\n",
    "n_households = len(unique_hhs)"
   ]
  },
  {
   "cell_type": "code",
   "execution_count": 5,
   "metadata": {},
   "outputs": [
    {
     "name": "stderr",
     "output_type": "stream",
     "text": [
      "D:\\John\\Anaconda3\\lib\\site-packages\\ipykernel_launcher.py:13: SettingWithCopyWarning: \n",
      "A value is trying to be set on a copy of a slice from a DataFrame\n",
      "\n",
      "See the caveats in the documentation: http://pandas.pydata.org/pandas-docs/stable/user_guide/indexing.html#returning-a-view-versus-a-copy\n",
      "  del sys.path[0]\n",
      "D:\\John\\Anaconda3\\lib\\site-packages\\ipykernel_launcher.py:15: SettingWithCopyWarning: \n",
      "A value is trying to be set on a copy of a slice from a DataFrame\n",
      "\n",
      "See the caveats in the documentation: http://pandas.pydata.org/pandas-docs/stable/user_guide/indexing.html#returning-a-view-versus-a-copy\n",
      "  from ipykernel import kernelapp as app\n",
      "D:\\John\\Anaconda3\\lib\\site-packages\\ipykernel_launcher.py:9: SettingWithCopyWarning: \n",
      "A value is trying to be set on a copy of a slice from a DataFrame\n",
      "\n",
      "See the caveats in the documentation: http://pandas.pydata.org/pandas-docs/stable/user_guide/indexing.html#returning-a-view-versus-a-copy\n",
      "  if __name__ == '__main__':\n",
      "D:\\John\\Anaconda3\\lib\\site-packages\\ipykernel_launcher.py:11: SettingWithCopyWarning: \n",
      "A value is trying to be set on a copy of a slice from a DataFrame\n",
      "\n",
      "See the caveats in the documentation: http://pandas.pydata.org/pandas-docs/stable/user_guide/indexing.html#returning-a-view-versus-a-copy\n",
      "  # This is added back by InteractiveShellApp.init_path()\n"
     ]
    }
   ],
   "source": [
    "# Use Simple Household Level to categorize households\n",
    "unique_hhs[\"shl\"] = 0\n",
    "for i in range(n_households):\n",
    "    household = unique_hhs.iloc[i,0:4].ravel()\n",
    "    roster_household = roster[(roster[\"id1\"] == household[0]) & (roster[\"id2\"] == household[1]) & (roster[\"id3\"] == household[2]) \n",
    "           & (roster[\"id4\"] == household[3])]\n",
    "    n_members = len(roster_household)\n",
    "    n_60 = len(roster_household[roster_household[\"s1q5\"] >= 60])\n",
    "    if n_60 == 0:\n",
    "        unique_hhs[\"shl\"][i] = \"NONE\"\n",
    "    elif (n_members == 1) & (n_60 == 1):\n",
    "        unique_hhs[\"shl\"][i] = \"SNGL\"\n",
    "    elif (n_members == 2) & (n_60 > 0):\n",
    "        unique_hhs[\"shl\"][i] = \"DBLE\"\n",
    "    elif (n_members >= 3) & (n_60 > 0):\n",
    "        unique_hhs[\"shl\"][i] = \"OTHR\""
   ]
  },
  {
   "cell_type": "code",
   "execution_count": 6,
   "metadata": {},
   "outputs": [
    {
     "name": "stderr",
     "output_type": "stream",
     "text": [
      "D:\\John\\Anaconda3\\lib\\site-packages\\ipykernel_launcher.py:11: SettingWithCopyWarning: \n",
      "A value is trying to be set on a copy of a slice from a DataFrame\n",
      "\n",
      "See the caveats in the documentation: http://pandas.pydata.org/pandas-docs/stable/user_guide/indexing.html#returning-a-view-versus-a-copy\n",
      "  # This is added back by InteractiveShellApp.init_path()\n",
      "D:\\John\\Anaconda3\\lib\\site-packages\\ipykernel_launcher.py:12: SettingWithCopyWarning: \n",
      "A value is trying to be set on a copy of a slice from a DataFrame\n",
      "\n",
      "See the caveats in the documentation: http://pandas.pydata.org/pandas-docs/stable/user_guide/indexing.html#returning-a-view-versus-a-copy\n",
      "  if sys.path[0] == '':\n"
     ]
    }
   ],
   "source": [
    "# Create expenditure totals for the health and nonfood categories\n",
    "unique_hhs[\"total_health\"] = 0\n",
    "unique_hhs[\"total_nonfood\"] = 0\n",
    "for i in range(n_households):\n",
    "    household = unique_hhs.iloc[i,0:4].ravel()\n",
    "    health_household = nonfood_filtered[(nonfood_filtered[\"id1\"] == household[0]) & (nonfood_filtered[\"id2\"] == household[1]) \n",
    "                                         & (nonfood_filtered[\"id3\"] == household[2]) & (nonfood_filtered[\"id4\"] == household[3])]\n",
    "    nonfood_household = nonfood[(nonfood[\"id1\"] == household[0]) & (nonfood[\"id2\"] == household[1]) \n",
    "                                         & (nonfood[\"id3\"] == household[2]) & (nonfood[\"id4\"] == household[3])]\n",
    "    total_health = health_household[\"adjusted\"].sum()\n",
    "    total_nonfood = nonfood_household[\"adjusted\"].sum()\n",
    "    unique_hhs[\"total_health\"][i] = total_health\n",
    "    unique_hhs[\"total_nonfood\"][i] = total_nonfood"
   ]
  },
  {
   "cell_type": "code",
   "execution_count": 7,
   "metadata": {},
   "outputs": [
    {
     "name": "stderr",
     "output_type": "stream",
     "text": [
      "D:\\John\\Anaconda3\\lib\\site-packages\\ipykernel_launcher.py:5: UserWarning: Boolean Series key will be reindexed to match DataFrame index.\n",
      "  \"\"\"\n",
      "D:\\John\\Anaconda3\\lib\\site-packages\\ipykernel_launcher.py:7: SettingWithCopyWarning: \n",
      "A value is trying to be set on a copy of a slice from a DataFrame\n",
      "\n",
      "See the caveats in the documentation: http://pandas.pydata.org/pandas-docs/stable/user_guide/indexing.html#returning-a-view-versus-a-copy\n",
      "  import sys\n"
     ]
    }
   ],
   "source": [
    "# Create expenditure totals for the food and frequent category\n",
    "unique_hhs[\"total_food\"] = 0\n",
    "for i in range(n_households):\n",
    "    household = unique_hhs.iloc[i,0:4].ravel()\n",
    "    food_household = food[(nonfood[\"id1\"] == household[0]) & (food[\"id2\"] == household[1]) \n",
    "                                         & (food[\"id3\"] == household[2]) & (food[\"id4\"] == household[3])]\n",
    "    total_food = food_household[\"s50value\"].sum()\n",
    "    unique_hhs[\"total_food\"][i] = total_food"
   ]
  },
  {
   "cell_type": "code",
   "execution_count": 8,
   "metadata": {},
   "outputs": [],
   "source": [
    "# Calculate a ratio between health expenditures over total expenditures\n",
    "unique_hhs[\"ratio\"] = unique_hhs[\"total_health\"] / (unique_hhs[\"total_nonfood\"]+unique_hhs[\"total_food\"])"
   ]
  },
  {
   "cell_type": "code",
   "execution_count": 9,
   "metadata": {},
   "outputs": [
    {
     "name": "stderr",
     "output_type": "stream",
     "text": [
      "D:\\John\\Anaconda3\\lib\\site-packages\\ipykernel_launcher.py:5: SettingWithCopyWarning: \n",
      "A value is trying to be set on a copy of a slice from a DataFrame\n",
      "\n",
      "See the caveats in the documentation: http://pandas.pydata.org/pandas-docs/stable/user_guide/indexing.html#returning-a-view-versus-a-copy\n",
      "  \"\"\"\n",
      "D:\\John\\Anaconda3\\lib\\site-packages\\ipykernel_launcher.py:7: SettingWithCopyWarning: \n",
      "A value is trying to be set on a copy of a slice from a DataFrame\n",
      "\n",
      "See the caveats in the documentation: http://pandas.pydata.org/pandas-docs/stable/user_guide/indexing.html#returning-a-view-versus-a-copy\n",
      "  import sys\n"
     ]
    }
   ],
   "source": [
    "# Assign whether a household goes beyond the threshold\n",
    "unique_hhs[\"10%\"] = 0\n",
    "unique_hhs[\"25%\"] = 0\n",
    "for i in range(n_households):\n",
    "    if unique_hhs[\"ratio\"][i] > .1:\n",
    "        unique_hhs[\"10%\"][i] = 1\n",
    "    if unique_hhs[\"ratio\"][i] > .25:\n",
    "        unique_hhs[\"25%\"][i] = 1"
   ]
  },
  {
   "cell_type": "code",
   "execution_count": 99,
   "metadata": {},
   "outputs": [],
   "source": [
    "# Use bootstrap sampling to compile the final metrics\n",
    "levels = [\"TOTAL\", \"NONE\", \"SNGL\", \"DBLE\", \"OTHR\"]\n",
    "final_means10 = np.array([])\n",
    "final_stds10 = np.array([])\n",
    "final_means25 = np.array([])\n",
    "final_stds25 = np.array([])\n",
    "sizes = np.array([])\n",
    "for i in levels:\n",
    "    # Select the dataset to sample from\n",
    "    if i == \"TOTAL\":\n",
    "        group = unique_hhs\n",
    "    else:\n",
    "        group = unique_hhs[unique_hhs[\"shl\"] == i]\n",
    "    group_size = len(group)\n",
    "    means10 = []\n",
    "    means25 = []\n",
    "    # Randomly sample the data\n",
    "    for j in range(1000):\n",
    "        bootstrap = np.random.randint(0,group_size, size=group_size)\n",
    "        means10 = np.append(means10,(group[\"10%\"].iloc[bootstrap].mean()))\n",
    "        means25 = np.append(means25,(group[\"25%\"].iloc[bootstrap].mean()))\n",
    "    final_means10 = np.append(final_means10,np.mean(means10))\n",
    "    final_stds10 = np.append(final_stds10,np.std(means10))\n",
    "    final_means25 = np.append(final_means25,np.mean(means25))\n",
    "    final_stds25 = np.append(final_stds25,np.std(means25))\n",
    "    sizes = np.append(sizes,group_size)\n",
    "# Calculate margins of error\n",
    "margin10 = 1.96*final_stds10\n",
    "margin25 = 1.96*final_stds25"
   ]
  },
  {
   "cell_type": "code",
   "execution_count": 101,
   "metadata": {},
   "outputs": [
    {
     "data": {
      "text/html": [
       "<div>\n",
       "<style scoped>\n",
       "    .dataframe tbody tr th:only-of-type {\n",
       "        vertical-align: middle;\n",
       "    }\n",
       "\n",
       "    .dataframe tbody tr th {\n",
       "        vertical-align: top;\n",
       "    }\n",
       "\n",
       "    .dataframe thead th {\n",
       "        text-align: right;\n",
       "    }\n",
       "</style>\n",
       "<table border=\"1\" class=\"dataframe\">\n",
       "  <thead>\n",
       "    <tr style=\"text-align: right;\">\n",
       "      <th></th>\n",
       "      <th>level</th>\n",
       "      <th>samples</th>\n",
       "      <th>mean 10%</th>\n",
       "      <th>SE 10%</th>\n",
       "      <th>MOE 10%</th>\n",
       "      <th>mean 25%</th>\n",
       "      <th>SE 25%</th>\n",
       "      <th>MOE 25%</th>\n",
       "    </tr>\n",
       "  </thead>\n",
       "  <tbody>\n",
       "    <tr>\n",
       "      <td>0</td>\n",
       "      <td>TOTAL</td>\n",
       "      <td>4032.0</td>\n",
       "      <td>0.347932</td>\n",
       "      <td>0.007410</td>\n",
       "      <td>0.014524</td>\n",
       "      <td>0.101608</td>\n",
       "      <td>0.004750</td>\n",
       "      <td>0.009311</td>\n",
       "    </tr>\n",
       "    <tr>\n",
       "      <td>1</td>\n",
       "      <td>NONE</td>\n",
       "      <td>2938.0</td>\n",
       "      <td>0.326551</td>\n",
       "      <td>0.008345</td>\n",
       "      <td>0.016357</td>\n",
       "      <td>0.085036</td>\n",
       "      <td>0.005013</td>\n",
       "      <td>0.009826</td>\n",
       "    </tr>\n",
       "    <tr>\n",
       "      <td>2</td>\n",
       "      <td>SNGL</td>\n",
       "      <td>103.0</td>\n",
       "      <td>0.309272</td>\n",
       "      <td>0.044196</td>\n",
       "      <td>0.086623</td>\n",
       "      <td>0.193893</td>\n",
       "      <td>0.039265</td>\n",
       "      <td>0.076959</td>\n",
       "    </tr>\n",
       "    <tr>\n",
       "      <td>3</td>\n",
       "      <td>DBLE</td>\n",
       "      <td>148.0</td>\n",
       "      <td>0.501838</td>\n",
       "      <td>0.041504</td>\n",
       "      <td>0.081348</td>\n",
       "      <td>0.265392</td>\n",
       "      <td>0.036438</td>\n",
       "      <td>0.071419</td>\n",
       "    </tr>\n",
       "    <tr>\n",
       "      <td>4</td>\n",
       "      <td>OTHR</td>\n",
       "      <td>843.0</td>\n",
       "      <td>0.400730</td>\n",
       "      <td>0.016559</td>\n",
       "      <td>0.032455</td>\n",
       "      <td>0.120346</td>\n",
       "      <td>0.011242</td>\n",
       "      <td>0.022035</td>\n",
       "    </tr>\n",
       "  </tbody>\n",
       "</table>\n",
       "</div>"
      ],
      "text/plain": [
       "   level  samples  mean 10%    SE 10%   MOE 10%  mean 25%    SE 25%   MOE 25%\n",
       "0  TOTAL   4032.0  0.347932  0.007410  0.014524  0.101608  0.004750  0.009311\n",
       "1   NONE   2938.0  0.326551  0.008345  0.016357  0.085036  0.005013  0.009826\n",
       "2   SNGL    103.0  0.309272  0.044196  0.086623  0.193893  0.039265  0.076959\n",
       "3   DBLE    148.0  0.501838  0.041504  0.081348  0.265392  0.036438  0.071419\n",
       "4   OTHR    843.0  0.400730  0.016559  0.032455  0.120346  0.011242  0.022035"
      ]
     },
     "execution_count": 101,
     "metadata": {},
     "output_type": "execute_result"
    }
   ],
   "source": [
    "# Put the final metrics in a DataFrame\n",
    "df = pd.DataFrame(list(zip(levels, sizes, final_means10, final_stds10, margin10,\n",
    "                           final_means25, final_stds25, margin25)),\n",
    "               columns =[\"level\", \"samples\", \"mean 10%\", \"SE 10%\", \"MOE 10%\",\n",
    "                         \"mean 25%\", \"SE 25%\", \"MOE 25%\"])\n",
    "df.head()"
   ]
  },
  {
   "cell_type": "code",
   "execution_count": null,
   "metadata": {},
   "outputs": [],
   "source": []
  }
 ],
 "metadata": {
  "kernelspec": {
   "display_name": "Python 3",
   "language": "python",
   "name": "python3"
  },
  "language_info": {
   "codemirror_mode": {
    "name": "ipython",
    "version": 3
   },
   "file_extension": ".py",
   "mimetype": "text/x-python",
   "name": "python",
   "nbconvert_exporter": "python",
   "pygments_lexer": "ipython3",
   "version": "3.7.4"
  }
 },
 "nbformat": 4,
 "nbformat_minor": 4
}
